{
  "nbformat": 4,
  "nbformat_minor": 0,
  "metadata": {
    "colab": {
      "name": "Colab tutorial.ipynb",
      "version": "0.3.2",
      "provenance": [],
      "collapsed_sections": [
        "KifLCSAssrYL",
        "AUAKPWLtb5LA",
        "T66pqqtqcu0E",
        "EkhE0HtyWtum",
        "6enJfedUoDXI",
        "dA_nJWswbFjg",
        "pWRHV7zqbOUS"
      ],
      "include_colab_link": true
    },
    "kernelspec": {
      "name": "python3",
      "display_name": "Python 3"
    }
  },
  "cells": [
    {
      "cell_type": "markdown",
      "metadata": {
        "id": "view-in-github",
        "colab_type": "text"
      },
      "source": [
        "<a href=\"https://colab.research.google.com/github/Giffy/Google_Colab_Tutorial/blob/master/Colab_tutorial.ipynb\" target=\"_parent\"><img src=\"https://colab.research.google.com/assets/colab-badge.svg\" alt=\"Open In Colab\"/></a>"
      ]
    },
    {
      "metadata": {
        "id": "8Zk9LqC4hQ4O",
        "colab_type": "text"
      },
      "cell_type": "markdown",
      "source": [
        "\n",
        "<img height=\"60px\" src=\"https://colab.research.google.com/img/colab_favicon.ico\" align=\"left\" hspace=\"20px\" vspace=\"5px\"> \n",
        "<h1> Introduction to Google Colab </h1>\n",
        "<br>\n",
        "\n",
        "Colaboratory is a free Jupyter notebook environment that requires no setup and runs entirely in the cloud. <br>\n",
        "Provides a free Virtual Machine with a persistance of 12h. After this period, VM  vill get erased.<br>\n",
        "VM specification:<br>\n",
        "-  OS ： linux + Python 2 & 3 + AI libraries\n",
        "- CPU ： Intel(R) Xeon(R) CPU @ 2.30GHz (1 core, 2 threads)\n",
        "- GPU ： Nvidia Tesla K80 12GB GDDR5  (2496 CUDA cores vs GTX1050 768CUDA or GTX1060 1280CUDA cores )\n",
        "- TPU :  Available changing runtime environment  \n",
        "- RAM： 12,6GB\n",
        "- Disk:  33GB\n",
        "\n",
        "( [check it yourself](https://colab.research.google.com/drive/151805XTDg--dgHb3-AXJCpnWaqRhop_2) )\n",
        "\n",
        "References:<br>\n",
        "[Welcome to colaboratory!](https://colab.research.google.com/notebooks/welcome.ipynb?hl=en#scrollTo=9J7p406abzgl)<br>\n",
        "[Google Colab article in Medium](https://medium.com/deep-learning-turkey/google-colab-free-gpu-tutorial-e113627b9f5d)<br>"
      ]
    },
    {
      "metadata": {
        "id": "s2RHsAeIs2G0",
        "colab_type": "text"
      },
      "cell_type": "markdown",
      "source": [
        "# Access to Google Colab -> https://colab.research.google.com/"
      ]
    },
    {
      "metadata": {
        "id": "KifLCSAssrYL",
        "colab_type": "text"
      },
      "cell_type": "markdown",
      "source": [
        "# Menus explanation"
      ]
    },
    {
      "metadata": {
        "id": "4WA_nOdFaUBA",
        "colab_type": "text"
      },
      "cell_type": "markdown",
      "source": [
        "- **File / Archivo**\n",
        "- Edit / Editar\n",
        "- View / Ver\n",
        "- Insert / Insertar\n",
        "- **Runtime / Entorno de ejecución**\n",
        "- Tools / Herramientas\n",
        "- Help / Ayuda"
      ]
    },
    {
      "metadata": {
        "id": "YTSjPD1n8-YX",
        "colab_type": "text"
      },
      "cell_type": "markdown",
      "source": [
        "###  File / Archivo  - key items\n",
        "\n",
        "New Python 3 notebook\n",
        "\n",
        "Open notebook ...\n",
        "\n",
        "Upload notebook ...\n",
        "\n",
        "Save copy in Drive ...\n",
        "\n",
        "Save copy in Github ...\n",
        "\n",
        "Save\n",
        "\n",
        "Download .ipynb \n",
        "\n",
        "Download .py"
      ]
    },
    {
      "metadata": {
        "id": "gd9ANT1RRbue",
        "colab_type": "text"
      },
      "cell_type": "markdown",
      "source": [
        "###  Runtime / Entorno de ejecución - key items\n",
        "\n",
        "Run all\n",
        "\n",
        "Run before\n",
        "\n",
        "Run after\n",
        "\n",
        "Restart runtime\n",
        "\n",
        "***Change runtime type***\n"
      ]
    },
    {
      "metadata": {
        "id": "U2RdzrwuC6U-",
        "colab_type": "text"
      },
      "cell_type": "markdown",
      "source": [
        "# Like Jupyter notebook\n",
        "This is a text cell. Here you can type descriptions, notes, etc...\n",
        "# text huge size\n",
        "## text bigger size\n",
        "### text big in bold\n",
        "#### text medium\n",
        "##### text smaller\n",
        "###### text tiny"
      ]
    },
    {
      "metadata": {
        "id": "GriQhuhWJ-zd",
        "colab_type": "code",
        "outputId": "59e111e9-3842-4b4e-e415-4d876bb37cbe",
        "colab": {
          "base_uri": "https://localhost:8080/",
          "height": 34
        }
      },
      "cell_type": "code",
      "source": [
        "# this is a code cell\n",
        "# run code cells\n",
        "print (\"Welcome to AI Saturday\")"
      ],
      "execution_count": 0,
      "outputs": [
        {
          "output_type": "stream",
          "text": [
            "Welcome to AI Saturday\n"
          ],
          "name": "stdout"
        }
      ]
    },
    {
      "metadata": {
        "id": "5-Zr8DxKNJyM",
        "colab_type": "code",
        "colab": {}
      },
      "cell_type": "code",
      "source": [
        "# move code up and down\n",
        "# delete results\n",
        "# delete cell\n",
        "# add comments\n",
        "# forms (later :) "
      ],
      "execution_count": 0,
      "outputs": []
    },
    {
      "metadata": {
        "id": "XqhCYZFzNddp",
        "colab_type": "code",
        "colab": {}
      },
      "cell_type": "code",
      "source": [
        "# stop execution\n",
        "i=1\n",
        "while i>0:     # this loop never stops\n",
        "  i += 1"
      ],
      "execution_count": 0,
      "outputs": []
    },
    {
      "metadata": {
        "id": "mq6olCn_Pjvu",
        "colab_type": "code",
        "colab": {}
      },
      "cell_type": "code",
      "source": [
        "# Search for errors in stack overflow\n",
        "\n",
        "a = \"Hello\"\n",
        "b = 1\n",
        "\n",
        "print (a + b)"
      ],
      "execution_count": 0,
      "outputs": []
    },
    {
      "metadata": {
        "id": "IHSMJW6YQmMA",
        "colab_type": "code",
        "colab": {}
      },
      "cell_type": "code",
      "source": [
        "# Help about commands\n",
        "?print"
      ],
      "execution_count": 0,
      "outputs": []
    },
    {
      "metadata": {
        "id": "VTRsK24bQ1iP",
        "colab_type": "code",
        "colab": {}
      },
      "cell_type": "code",
      "source": [
        "# Historic files\n",
        "?"
      ],
      "execution_count": 0,
      "outputs": []
    },
    {
      "metadata": {
        "id": "m8DaZ5URTYkH",
        "colab_type": "code",
        "colab": {}
      },
      "cell_type": "code",
      "source": [
        "# Restart Python environment - Warning!! Deletes all variables \n",
        "a = 3\n",
        "!pkill python"
      ],
      "execution_count": 0,
      "outputs": []
    },
    {
      "metadata": {
        "id": "vzSyoTHRTlsI",
        "colab_type": "code",
        "colab": {}
      },
      "cell_type": "code",
      "source": [
        "# Deletes all varianbles\n",
        "print (a)"
      ],
      "execution_count": 0,
      "outputs": []
    },
    {
      "metadata": {
        "id": "4TKMdpRqRFuw",
        "colab_type": "code",
        "colab": {}
      },
      "cell_type": "code",
      "source": [
        "# Restart Virtual Machine - Warning!!! Deletes all files contained in VM\n",
        "!kill -9 -1 "
      ],
      "execution_count": 0,
      "outputs": []
    },
    {
      "metadata": {
        "id": "6enJfedUoDXI",
        "colab_type": "text"
      },
      "cell_type": "markdown",
      "source": [
        "### Code snippers (tips) / Fragmentos de código"
      ]
    },
    {
      "metadata": {
        "id": "hn66XHvjfDrH",
        "colab_type": "text"
      },
      "cell_type": "markdown",
      "source": [
        "Connect to Google Drive\n",
        "\n",
        "Saving data to Google Sheets\n",
        "\n",
        "Upload from local drive or download a file\n",
        "\n",
        "Upgrade TensorFlow\n",
        "\n",
        "Visualization: "
      ]
    },
    {
      "metadata": {
        "id": "wX2RKj50V0oL",
        "colab_type": "text"
      },
      "cell_type": "markdown",
      "source": [
        "# Code clues"
      ]
    },
    {
      "metadata": {
        "id": "AUAKPWLtb5LA",
        "colab_type": "text"
      },
      "cell_type": "markdown",
      "source": [
        "### Run bash commands"
      ]
    },
    {
      "metadata": {
        "id": "dXlKGzW3g10W",
        "colab_type": "code",
        "outputId": "5235c046-113d-4575-d9c8-f3a3d5b48123",
        "colab": {
          "base_uri": "https://localhost:8080/",
          "height": 191
        }
      },
      "cell_type": "code",
      "source": [
        "# Virtual machine OS is Linux\n",
        "# basic OS commands\n",
        "!ls                       # list dir\n",
        "!ls -alis                 # list dir with details\n",
        "\n",
        "!touch test.txt           # creates a file\n",
        "!ls\n",
        "!rm test.txt              # deletes a file\n",
        "\n",
        "!mkdir 'new folder'       # make a dir\n",
        "!ls\n",
        "!rmdir 'new folder'       # remove an empty dir\n",
        "\n",
        "!mkdir folder2\n",
        "!touch folder2/test.txt\n",
        "!rmdir folder2\n",
        "!rm -rf folder2           # removes a dir and content !! Warning !!\n",
        "\n",
        "!touch test.txt\n",
        "!mv test.txt test2.txt    # rename or move files\n",
        "!cp test2.txt test3.txt   # copy files\n",
        "!ls\n",
        "!rm test*                 # delete files starting with test"
      ],
      "execution_count": 0,
      "outputs": [
        {
          "output_type": "stream",
          "text": [
            "sample_data\n",
            "total 16\n",
            "1835040 4 drwxr-xr-x 1 root root 4096 Jan 29 17:09 .\n",
            "1444769 4 drwxr-xr-x 1 root root 4096 Feb  1 18:21 ..\n",
            "1835041 4 drwxr-xr-x 1 root root 4096 Jan 28 17:05 .config\n",
            "2621464 4 drwxr-xr-x 1 root root 4096 Jan 29 17:09 sample_data\n",
            "sample_data  test.txt\n",
            "'new folder'   sample_data\n",
            "rmdir: failed to remove 'folder2': Directory not empty\n",
            "sample_data  test2.txt\ttest3.txt\n"
          ],
          "name": "stdout"
        }
      ]
    },
    {
      "metadata": {
        "id": "EXF7zwgBdrha",
        "colab_type": "code",
        "colab": {}
      },
      "cell_type": "code",
      "source": [
        "!echo \"aaa\" >hola.txt\n",
        "!zip hola.zip hola.txt    # Compress file to zip\n",
        "!ls\n",
        "!rm hola.txt\n",
        "!ls\n",
        "!unzip hola.zip           # Decompress zip file\n",
        "!ls\n",
        "!rm hola*"
      ],
      "execution_count": 0,
      "outputs": []
    },
    {
      "metadata": {
        "id": "JDIb43g2jR5F",
        "colab_type": "code",
        "colab": {}
      },
      "cell_type": "code",
      "source": [
        "!echo \"aaa\" >hola.txt\n",
        "!tar czvf hola.tar.gz hola.txt    # Compress file to tar\n",
        "!ls\n",
        "!rm hola.txt\n",
        "!ls\n",
        "!tar xvf hola.tar.gz              # Decompress tar file\n",
        "!ls\n",
        "!rm hola*"
      ],
      "execution_count": 0,
      "outputs": []
    },
    {
      "metadata": {
        "id": "T66pqqtqcu0E",
        "colab_type": "text"
      },
      "cell_type": "markdown",
      "source": [
        "### Run bash commands in batch"
      ]
    },
    {
      "metadata": {
        "id": "AW1cGJZYcShV",
        "colab_type": "code",
        "outputId": "f9b6c3c9-9804-49c1-bb89-53c7f0d7fc98",
        "colab": {
          "base_uri": "https://localhost:8080/",
          "height": 72
        }
      },
      "cell_type": "code",
      "source": [
        "import subprocess\n",
        "p = subprocess.Popen(['ls','-alis'], stdout=subprocess.PIPE)\n",
        "p.communicate()"
      ],
      "execution_count": 0,
      "outputs": [
        {
          "output_type": "execute_result",
          "data": {
            "text/plain": [
              "(b'total 16\\n1835040 4 drwxr-xr-x 1 root root 4096 Feb  1 18:23 .\\n1444769 4 drwxr-xr-x 1 root root 4096 Feb  1 18:21 ..\\n1835041 4 drwxr-xr-x 1 root root 4096 Jan 28 17:05 .config\\n2621464 4 drwxr-xr-x 1 root root 4096 Jan 29 17:09 sample_data\\n1444906 0 -rw-r--r-- 1 root root    0 Feb  1 18:23 test2.txt\\n1444907 0 -rw-r--r-- 1 root root    0 Feb  1 18:23 test3.txt\\n',\n",
              " None)"
            ]
          },
          "metadata": {
            "tags": []
          },
          "execution_count": 2
        }
      ]
    },
    {
      "metadata": {
        "id": "bR6NpOwRYVi_",
        "colab_type": "code",
        "outputId": "d9a76d85-2bb2-404b-f318-b3154f564aef",
        "colab": {
          "base_uri": "https://localhost:8080/",
          "height": 52
        }
      },
      "cell_type": "code",
      "source": [
        "import shlex, subprocess\n",
        "command_line = 'ls -alis, ls -al' \n",
        "\n",
        "args = shlex.split(command_line)\n",
        "print (args)\n",
        "\n",
        "p = subprocess.Popen(args, stdout=subprocess.PIPE) # Success!\n",
        "p.communicate()"
      ],
      "execution_count": 0,
      "outputs": [
        {
          "output_type": "stream",
          "text": [
            "['ls', '-alis,', 'ls', '-al']\n"
          ],
          "name": "stdout"
        },
        {
          "output_type": "execute_result",
          "data": {
            "text/plain": [
              "(b'', None)"
            ]
          },
          "metadata": {
            "tags": []
          },
          "execution_count": 15
        }
      ]
    },
    {
      "metadata": {
        "id": "EkhE0HtyWtum",
        "colab_type": "text"
      },
      "cell_type": "markdown",
      "source": [
        "### Clone github repository"
      ]
    },
    {
      "metadata": {
        "id": "0l8vjMrM82_W",
        "colab_type": "code",
        "outputId": "a68cccad-6155-42ba-bcaf-4717f5ed9173",
        "colab": {
          "base_uri": "https://localhost:8080/",
          "height": 121
        }
      },
      "cell_type": "code",
      "source": [
        "!git clone https://github.com/Giffy/Personal_dataset_repository.git"
      ],
      "execution_count": 0,
      "outputs": [
        {
          "output_type": "stream",
          "text": [
            "Cloning into 'Personal_dataset_repository'...\n",
            "remote: Enumerating objects: 23, done.\u001b[K\n",
            "remote: Counting objects: 100% (23/23), done.\u001b[K\n",
            "remote: Compressing objects: 100% (21/21), done.\u001b[K\n",
            "remote: Total 57 (delta 5), reused 0 (delta 0), pack-reused 34\u001b[K\n",
            "Unpacking objects: 100% (57/57), done.\n"
          ],
          "name": "stdout"
        }
      ]
    },
    {
      "metadata": {
        "id": "KLf-hug7g7Re",
        "colab_type": "code",
        "outputId": "31d27dae-6899-4881-f353-d056eae8cd2e",
        "colab": {
          "base_uri": "https://localhost:8080/",
          "height": 86
        }
      },
      "cell_type": "code",
      "source": [
        "!ls Personal_dataset_repository"
      ],
      "execution_count": 0,
      "outputs": [
        {
          "output_type": "stream",
          "text": [
            "contacts.json\t\t\t   Persons    telefoniaBCN.csv.zip\n",
            "globalterrorismdb_0617dist.csv.gz  README.md  titanic-train.csv\n",
            "movil2016.csv.gz.001\t\t   resources\n",
            "movil2016.csv.gz.002\t\t   spx.csv\n"
          ],
          "name": "stdout"
        }
      ]
    },
    {
      "metadata": {
        "id": "cZXnzp2dgGvJ",
        "colab_type": "text"
      },
      "cell_type": "markdown",
      "source": [
        "### Files / Archivos (side menu)\n"
      ]
    },
    {
      "metadata": {
        "id": "dA_nJWswbFjg",
        "colab_type": "text"
      },
      "cell_type": "markdown",
      "source": [
        "# Starting to learn"
      ]
    },
    {
      "metadata": {
        "id": "pWRHV7zqbOUS",
        "colab_type": "text"
      },
      "cell_type": "markdown",
      "source": [
        "## Fast AI - Deep Learning\n",
        "[Fast AI](https://www.fast.ai/)<br>\n",
        "[Practical Deep Learning for Coders - 2019  ](https://course.fast.ai/)<br>"
      ]
    },
    {
      "metadata": {
        "id": "UE5cM9csCmJW",
        "colab_type": "code",
        "outputId": "374560a8-4e10-49be-c22a-44780bc953df",
        "colab": {
          "base_uri": "https://localhost:8080/",
          "height": 34
        }
      },
      "cell_type": "code",
      "source": [
        "from google.colab import drive\n",
        "drive.mount('/gdrive')"
      ],
      "execution_count": 0,
      "outputs": [
        {
          "output_type": "stream",
          "text": [
            "Mounted at /gdrive\n"
          ],
          "name": "stdout"
        }
      ]
    },
    {
      "metadata": {
        "id": "_FFlvjtjg-RC",
        "colab_type": "code",
        "outputId": "0bb717fe-78ac-45ac-fa5b-afbb76bf6822",
        "colab": {
          "base_uri": "https://localhost:8080/",
          "height": 104
        }
      },
      "cell_type": "code",
      "source": [
        "# Copy FastAI course to Google Drive\n",
        "!mkdir /gdrive/My\\ Drive/FastAI_dl\n",
        "!git clone https://github.com/fastai/course-v3.git /gdrive/My\\ Drive/FastAI_dl"
      ],
      "execution_count": 0,
      "outputs": [
        {
          "output_type": "stream",
          "text": [
            "Cloning into 'course-v3'...\n",
            "remote: Enumerating objects: 3553, done.\u001b[K\n",
            "remote: Total 3553 (delta 0), reused 0 (delta 0), pack-reused 3553\u001b[K\n",
            "Receiving objects: 100% (3553/3553), 191.87 MiB | 42.60 MiB/s, done.\n",
            "Resolving deltas: 100% (1968/1968), done.\n"
          ],
          "name": "stdout"
        }
      ]
    },
    {
      "metadata": {
        "id": "mbLR1b3kSSV-",
        "colab_type": "code",
        "outputId": "667a72a9-6f20-4769-d528-64252da6ca73",
        "colab": {
          "base_uri": "https://localhost:8080/",
          "height": 104
        }
      },
      "cell_type": "code",
      "source": [
        "# Copy folders to Google Colab to run the lesson Notebooks\n",
        "!git clone https://github.com/fastai/course-v3.git\n",
        "!mv course-v3/nbs/dl1/* /content"
      ],
      "execution_count": 0,
      "outputs": [
        {
          "output_type": "stream",
          "text": [
            "Cloning into 'course-v3'...\n",
            "remote: Enumerating objects: 3553, done.\u001b[K\n",
            "remote: Total 3553 (delta 0), reused 0 (delta 0), pack-reused 3553\u001b[K\n",
            "Receiving objects: 100% (3553/3553), 191.87 MiB | 28.98 MiB/s, done.\n",
            "Resolving deltas: 100% (1969/1969), done.\n"
          ],
          "name": "stdout"
        }
      ]
    },
    {
      "metadata": {
        "id": "9gmgnXLAR1Q-",
        "colab_type": "text"
      },
      "cell_type": "markdown",
      "source": [
        "** Open a lesson1 notebook**<br>\n",
        "Go to your Drive -> FastAI_dl -> nbs -> dl1<br>\n",
        "Open lesson1-pets.ipynb<br>\n",
        "Change runtime environment to GPU<br>"
      ]
    },
    {
      "metadata": {
        "id": "OvlhcSA3b1gH",
        "colab_type": "text"
      },
      "cell_type": "markdown",
      "source": [
        "## Fast AI - Machine Learning\n",
        "[Introduction to Machine Learning for Coders](http://course18.fast.ai/ml)<br>\n",
        "\n",
        "**Lesson resources**\n",
        "\n",
        "[Wiki of Lesson1](https://forums.fast.ai/t/wiki-thread-lesson-1/6825)<br>\n",
        "[Lesson video](https://youtu.be/CzdWqFTmn0Y)<br>\n",
        "Course repo: https://github.com/fastai/fastai<br>\n",
        "Notebooks: In courses/ml1 in the above repo<br>\n",
        "[Workshop video](https://forums.fast.ai/t/deep-learning-workshop-video/6649)<br>\n",
        "[Lesson notes](https://medium.com/@hiromi_suenaga/machine-learning-1-lesson-1-84a1dc2b5236)<br>\n",
        "[Kaggle Kernel for lesson 1](https://www.kaggle.com/miwojc/fast-ai-machine-learning-lesson-1/)\n"
      ]
    },
    {
      "metadata": {
        "id": "UD7iwU4CNJSs",
        "colab_type": "code",
        "outputId": "b95559a7-7619-4985-b679-2ef93d615b79",
        "colab": {
          "base_uri": "https://localhost:8080/",
          "height": 124
        }
      },
      "cell_type": "code",
      "source": [
        "from google.colab import drive\n",
        "drive.mount('/gdrive')"
      ],
      "execution_count": 0,
      "outputs": [
        {
          "output_type": "stream",
          "text": [
            "Go to this URL in a browser: https://accounts.google.com/o/oauth2/auth?client_id=947318989803-6bn6qk8qdgf4n4g3pfee6491hc0brc4i.apps.googleusercontent.com&redirect_uri=urn%3Aietf%3Awg%3Aoauth%3A2.0%3Aoob&scope=email%20https%3A%2F%2Fwww.googleapis.com%2Fauth%2Fdocs.test%20https%3A%2F%2Fwww.googleapis.com%2Fauth%2Fdrive%20https%3A%2F%2Fwww.googleapis.com%2Fauth%2Fdrive.photos.readonly%20https%3A%2F%2Fwww.googleapis.com%2Fauth%2Fpeopleapi.readonly&response_type=code\n",
            "\n",
            "Enter your authorization code:\n",
            "··········\n",
            "Mounted at /gdrive\n"
          ],
          "name": "stdout"
        }
      ]
    },
    {
      "metadata": {
        "id": "xG4nUI0IM2iC",
        "colab_type": "code",
        "outputId": "3323f793-6597-484d-bda7-41518d3294bf",
        "colab": {
          "base_uri": "https://localhost:8080/",
          "height": 121
        }
      },
      "cell_type": "code",
      "source": [
        "!mkdir /gdrive/My\\ Drive/FastAI_ml\n",
        "!git clone https://github.com/fastai/fastai.git /gdrive/My\\ Drive/FastAI_ml"
      ],
      "execution_count": 0,
      "outputs": [
        {
          "output_type": "stream",
          "text": [
            "Cloning into '/gdrive/My Drive/FastAI_ml'...\n",
            "remote: Enumerating objects: 21436, done.\u001b[K\n",
            "remote: Total 21436 (delta 0), reused 0 (delta 0), pack-reused 21436\u001b[K\n",
            "Receiving objects: 100% (21436/21436), 355.04 MiB | 15.58 MiB/s, done.\n",
            "Resolving deltas: 100% (14923/14923), done.\n",
            "Checking out files: 100% (747/747), done.\n"
          ],
          "name": "stdout"
        }
      ]
    },
    {
      "metadata": {
        "id": "cf1-SX-Rhyms",
        "colab_type": "text"
      },
      "cell_type": "markdown",
      "source": [
        "** Open a lesson1 notebook**<br>\n",
        "Go to your Drive -> FastAI_ml -> courses -> ml1<br>\n",
        "Open lesson1-pets.ipynb<br>\n",
        "Change runtime environment to GPU<br>"
      ]
    },
    {
      "metadata": {
        "id": "xJjdKfvBCmBt",
        "colab_type": "code",
        "outputId": "71917447-43b4-42d1-e2b7-137b39e2a248",
        "colab": {
          "base_uri": "https://localhost:8080/",
          "height": 121
        }
      },
      "cell_type": "code",
      "source": [
        "!git clone https://github.com/fastai/fastai.git fastai_ml"
      ],
      "execution_count": 0,
      "outputs": [
        {
          "output_type": "stream",
          "text": [
            "Cloning into 'fastai_ml'...\n",
            "remote: Enumerating objects: 21436, done.\u001b[K\n",
            "remote: Total 21436 (delta 0), reused 0 (delta 0), pack-reused 21436\u001b[K\n",
            "Receiving objects: 100% (21436/21436), 354.67 MiB | 26.05 MiB/s, done.\n",
            "Resolving deltas: 100% (14918/14918), done.\n",
            "Checking out files: 100% (747/747), done.\n"
          ],
          "name": "stdout"
        }
      ]
    },
    {
      "metadata": {
        "id": "Mkg_wSf0gZm_",
        "colab_type": "code",
        "outputId": "a977eaab-08ce-4501-eb65-314c9d888975",
        "colab": {
          "base_uri": "https://localhost:8080/",
          "height": 139
        }
      },
      "cell_type": "code",
      "source": [
        "!ls fastai_ml/courses/ml1/"
      ],
      "execution_count": 0,
      "outputs": [
        {
          "output_type": "stream",
          "text": [
            " 00-DO-NOT-USE-WITH-FASTAI-1.0.x.txt   lesson1-rf.ipynb\n",
            " bulldozer_dl.ipynb\t\t       lesson2-rf_interpretation.ipynb\n",
            " bulldozer_linreg.ipynb\t\t       lesson3-rf_foundations.ipynb\n",
            "'Ethics in Data Science.ipynb'\t       lesson4-mnist_sgd.ipynb\n",
            " excel\t\t\t\t       lesson5-nlp.ipynb\n",
            " fastai\t\t\t\t       ppt\n",
            " images\n"
          ],
          "name": "stdout"
        }
      ]
    },
    {
      "metadata": {
        "id": "zeUxO7YjlIUj",
        "colab_type": "code",
        "colab": {}
      },
      "cell_type": "code",
      "source": [
        "!rm -rf fast_ml"
      ],
      "execution_count": 0,
      "outputs": []
    },
    {
      "metadata": {
        "id": "VeQAu7VBlL5Q",
        "colab_type": "code",
        "outputId": "7629462d-6368-4e54-9d98-3265effb59a5",
        "colab": {
          "base_uri": "https://localhost:8080/",
          "height": 69
        }
      },
      "cell_type": "code",
      "source": [
        "!mv fastai_ml/courses/ml1/* /content"
      ],
      "execution_count": 0,
      "outputs": [
        {
          "output_type": "stream",
          "text": [
            "mv: cannot move 'fastai_ml/courses/ml1/excel' to '/content/excel': Directory not empty\n",
            "mv: cannot move 'fastai_ml/courses/ml1/images' to '/content/images': Directory not empty\n",
            "mv: cannot move 'fastai_ml/courses/ml1/ppt' to '/content/ppt': Directory not empty\n"
          ],
          "name": "stdout"
        }
      ]
    },
    {
      "metadata": {
        "id": "ckoWLIvAmbWf",
        "colab_type": "code",
        "outputId": "d5b89152-6e1d-4f21-e844-a452585bdad7",
        "colab": {
          "base_uri": "https://localhost:8080/",
          "height": 34
        }
      },
      "cell_type": "code",
      "source": [
        "!ls fastai/fastai"
      ],
      "execution_count": 0,
      "outputs": [
        {
          "output_type": "stream",
          "text": [
            "ls: cannot access 'fastai/fastai': No such file or directory\n"
          ],
          "name": "stdout"
        }
      ]
    },
    {
      "metadata": {
        "id": "dq4V01fFg5Dp",
        "colab_type": "text"
      },
      "cell_type": "markdown",
      "source": [
        "## Deep Learning AI"
      ]
    },
    {
      "metadata": {
        "id": "OOMx5wGWh9DT",
        "colab_type": "text"
      },
      "cell_type": "markdown",
      "source": [
        "[Coursera](https://www.coursera.org/specializations/deep-learning)\n",
        "\n",
        "[Youtube playlist - Course 1](https://www.youtube.com/playlist?list=PLkDaE6sCZn6Ec-XTbcX1uRg2_u4xOEky0)\n",
        "\n",
        "[Github](https://github.com/Giffy/Coursera-DeepLearningSpecialization)"
      ]
    },
    {
      "metadata": {
        "id": "6gVzhen1hIBg",
        "colab_type": "code",
        "colab": {}
      },
      "cell_type": "code",
      "source": [
        ""
      ],
      "execution_count": 0,
      "outputs": []
    },
    {
      "metadata": {
        "id": "HXr1uWIKhJTs",
        "colab_type": "code",
        "colab": {}
      },
      "cell_type": "code",
      "source": [
        ""
      ],
      "execution_count": 0,
      "outputs": []
    },
    {
      "metadata": {
        "id": "tJFXhRQFhKES",
        "colab_type": "text"
      },
      "cell_type": "markdown",
      "source": [
        "# Improve and learn Python "
      ]
    },
    {
      "metadata": {
        "id": "DsySzqPehp8p",
        "colab_type": "text"
      },
      "cell_type": "markdown",
      "source": [
        "**PyBCN **organises a meetup where people from the Python community offers monthly talks about different topics. PyBCN also organises workshops (dojos), practical sessions in which work on a exercise on groups. \n",
        "Anyone interested can join to https://www.meetup.com/python-185/\n",
        "\n",
        "**PyLadies BCN** are members of an international mentorship group with a focus on helping women become active participants and leaders in the Python open-source community. PyLadies also aims to provide a friendly support network for women and a bridge to the larger Python world.\n",
        "Anyone interested can join to https://www.meetup.com/PyLadies-BCN/\n",
        "\n",
        "**Githunb**"
      ]
    }
  ]
}