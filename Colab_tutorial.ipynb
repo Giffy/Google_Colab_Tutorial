{
  "nbformat": 4,
  "nbformat_minor": 0,
  "metadata": {
    "colab": {
      "name": "Colab tutorial.ipynb",
      "version": "0.3.2",
      "provenance": [],
      "collapsed_sections": [],
      "include_colab_link": true
    },
    "kernelspec": {
      "name": "python3",
      "display_name": "Python 3"
    }
  },
  "cells": [
    {
      "cell_type": "markdown",
      "metadata": {
        "id": "view-in-github",
        "colab_type": "text"
      },
      "source": [
        "<a href=\"https://colab.research.google.com/github/Giffy/Google_Colab_Tutorial/blob/master/Colab_tutorial.ipynb\" target=\"_parent\"><img src=\"https://colab.research.google.com/assets/colab-badge.svg\" alt=\"Open In Colab\"/></a>"
      ]
    },
    {
      "metadata": {
        "id": "8Zk9LqC4hQ4O",
        "colab_type": "text"
      },
      "cell_type": "markdown",
      "source": [
        "\n",
        "<img height=\"60px\" src=\"https://colab.research.google.com/img/colab_favicon.ico\" align=\"left\" hspace=\"20px\" vspace=\"5px\"> \n",
        "<h1> Introduction to Google Colab </h1>\n",
        "<br>\n",
        "\n",
        "Colaboratory is a free Jupyter notebook environment that requires no setup and runs entirely in the cloud. <br>\n",
        "Provides a free Virtual Machine with a persistance of 12h. After this period, VM  vill get erased.<br>\n",
        "VM specification:<br>\n",
        "-  OS ： linux + Python 2 & 3 + AI libraries\n",
        "- CPU ： Intel(R) Xeon(R) CPU @ 2.30GHz (1 core, 2 threads)\n",
        "- GPU ： Nvidia Tesla K80 12GB GDDR5  (2496 CUDA cores vs GTX1050 768CUDA or GTX1060 1280CUDA cores )\n",
        "- TPU :  Available changing runtime environment  \n",
        "- RAM： 12,6GB\n",
        "- Disk:  33GB\n",
        "\n",
        "( [check it yourself](https://colab.research.google.com/drive/151805XTDg--dgHb3-AXJCpnWaqRhop_2) )\n",
        "\n",
        "References:<br>\n",
        "[Welcome to colaboratory!](https://colab.research.google.com/notebooks/welcome.ipynb?hl=en#scrollTo=9J7p406abzgl)<br>\n",
        "[Google Colab article in Medium](https://medium.com/deep-learning-turkey/google-colab-free-gpu-tutorial-e113627b9f5d)<br>"
      ]
    },
    {
      "metadata": {
        "id": "s2RHsAeIs2G0",
        "colab_type": "text"
      },
      "cell_type": "markdown",
      "source": [
        "# Access to Google Colab -> https://colab.research.google.com/"
      ]
    },
    {
      "metadata": {
        "id": "KifLCSAssrYL",
        "colab_type": "text"
      },
      "cell_type": "markdown",
      "source": [
        "# Menus explanation"
      ]
    },
    {
      "metadata": {
        "id": "4WA_nOdFaUBA",
        "colab_type": "text"
      },
      "cell_type": "markdown",
      "source": [
        "- **File / Archivo**\n",
        "- Edit / Editar\n",
        "- View / Ver\n",
        "- Insert / Insertar\n",
        "- **Runtime / Entorno de ejecución**\n",
        "- Tools / Herramientas\n",
        "- Help / Ayuda"
      ]
    },
    {
      "metadata": {
        "id": "YTSjPD1n8-YX",
        "colab_type": "text"
      },
      "cell_type": "markdown",
      "source": [
        "###  File / Archivo  - key items\n",
        "\n",
        "New Python 3 notebook\n",
        "\n",
        "Open notebook ...\n",
        "\n",
        "Upload notebook ...\n",
        "\n",
        "Save copy in Drive ...\n",
        "\n",
        "Save copy in Github ...\n",
        "\n",
        "Save\n",
        "\n",
        "Download .ipynb \n",
        "\n",
        "Download .py"
      ]
    },
    {
      "metadata": {
        "id": "gd9ANT1RRbue",
        "colab_type": "text"
      },
      "cell_type": "markdown",
      "source": [
        "###  Runtime / Entorno de ejecución - key items\n",
        "\n",
        "Run all\n",
        "\n",
        "Run before\n",
        "\n",
        "Run after\n",
        "\n",
        "Restart runtime\n",
        "\n",
        "***Change runtime type***\n"
      ]
    },
    {
      "metadata": {
        "id": "U2RdzrwuC6U-",
        "colab_type": "text"
      },
      "cell_type": "markdown",
      "source": [
        "# Like Jupyter notebook\n",
        "This is a text cell. Here you can type descriptions, notes, etc...\n",
        "# text huge size\n",
        "## text bigger size\n",
        "### text big in bold\n",
        "#### text medium\n",
        "##### text smaller\n",
        "###### text tiny"
      ]
    },
    {
      "metadata": {
        "id": "GriQhuhWJ-zd",
        "colab_type": "code",
        "colab": {}
      },
      "cell_type": "code",
      "source": [
        "# this is a code cell\n",
        "# run code cells\n",
        "print (\"Welcome to AI Saturday\")"
      ],
      "execution_count": 0,
      "outputs": []
    },
    {
      "metadata": {
        "id": "5-Zr8DxKNJyM",
        "colab_type": "code",
        "colab": {}
      },
      "cell_type": "code",
      "source": [
        "# move code up and down\n",
        "# delete results\n",
        "# delete cell\n",
        "# add comments\n",
        "# forms (later :) "
      ],
      "execution_count": 0,
      "outputs": []
    },
    {
      "metadata": {
        "id": "XqhCYZFzNddp",
        "colab_type": "code",
        "colab": {}
      },
      "cell_type": "code",
      "source": [
        "# stop execution\n",
        "i=1\n",
        "while i>0:     # this loop never stops\n",
        "  i += 1"
      ],
      "execution_count": 0,
      "outputs": []
    },
    {
      "metadata": {
        "id": "mq6olCn_Pjvu",
        "colab_type": "code",
        "colab": {}
      },
      "cell_type": "code",
      "source": [
        "# Search for errors in stack overflow\n",
        "\n",
        "a = \"Hello\"\n",
        "b = 1\n",
        "\n",
        "print (a + b)"
      ],
      "execution_count": 0,
      "outputs": []
    },
    {
      "metadata": {
        "id": "IHSMJW6YQmMA",
        "colab_type": "code",
        "colab": {}
      },
      "cell_type": "code",
      "source": [
        "# Help about commands\n",
        "?print"
      ],
      "execution_count": 0,
      "outputs": []
    },
    {
      "metadata": {
        "id": "VTRsK24bQ1iP",
        "colab_type": "code",
        "colab": {}
      },
      "cell_type": "code",
      "source": [
        "# Historic files\n",
        "?"
      ],
      "execution_count": 0,
      "outputs": []
    },
    {
      "metadata": {
        "id": "m8DaZ5URTYkH",
        "colab_type": "code",
        "colab": {}
      },
      "cell_type": "code",
      "source": [
        "# Restart Python environment - Warning!! Deletes all variables \n",
        "a = 3\n",
        "!pkill python"
      ],
      "execution_count": 0,
      "outputs": []
    },
    {
      "metadata": {
        "id": "vzSyoTHRTlsI",
        "colab_type": "code",
        "colab": {}
      },
      "cell_type": "code",
      "source": [
        "# Deletes all varianbles\n",
        "print (a)"
      ],
      "execution_count": 0,
      "outputs": []
    },
    {
      "metadata": {
        "id": "4TKMdpRqRFuw",
        "colab_type": "code",
        "colab": {}
      },
      "cell_type": "code",
      "source": [
        "# Restart Virtual Machine - Warning!!! Deletes all files contained in VM\n",
        "!kill -9 -1 "
      ],
      "execution_count": 0,
      "outputs": []
    },
    {
      "metadata": {
        "id": "6enJfedUoDXI",
        "colab_type": "text"
      },
      "cell_type": "markdown",
      "source": [
        "#Code snippers (tips) / Fragmentos de código"
      ]
    },
    {
      "metadata": {
        "id": "hn66XHvjfDrH",
        "colab_type": "text"
      },
      "cell_type": "markdown",
      "source": [
        "Connect to Google Drive\n",
        "\n",
        "Import/Saving data to Google Sheets\n",
        "\n",
        "Upload from local drive or download a file\n",
        "\n",
        "Visualization:  tips"
      ]
    },
    {
      "metadata": {
        "id": "t5OtqBKxFI09",
        "colab_type": "code",
        "colab": {}
      },
      "cell_type": "code",
      "source": [
        "# Life Demo\n",
        "\n",
        "## note Spreadsheet name: AISatDemo-titanic\n"
      ],
      "execution_count": 0,
      "outputs": []
    },
    {
      "metadata": {
        "id": "wX2RKj50V0oL",
        "colab_type": "text"
      },
      "cell_type": "markdown",
      "source": [
        "# Code clues"
      ]
    },
    {
      "metadata": {
        "id": "cZXnzp2dgGvJ",
        "colab_type": "text"
      },
      "cell_type": "markdown",
      "source": [
        "### Files / Archivos (side menu)\n"
      ]
    },
    {
      "metadata": {
        "id": "EkhE0HtyWtum",
        "colab_type": "text"
      },
      "cell_type": "markdown",
      "source": [
        "### Clone github repository"
      ]
    },
    {
      "metadata": {
        "id": "0l8vjMrM82_W",
        "colab_type": "code",
        "colab": {}
      },
      "cell_type": "code",
      "source": [
        "!git clone https://github.com/Giffy/Personal_dataset_repository.git"
      ],
      "execution_count": 0,
      "outputs": []
    },
    {
      "metadata": {
        "id": "KLf-hug7g7Re",
        "colab_type": "code",
        "colab": {}
      },
      "cell_type": "code",
      "source": [
        "!ls Personal_dataset_repository"
      ],
      "execution_count": 0,
      "outputs": []
    },
    {
      "metadata": {
        "id": "AUAKPWLtb5LA",
        "colab_type": "text"
      },
      "cell_type": "markdown",
      "source": [
        "### Run bash commands"
      ]
    },
    {
      "metadata": {
        "id": "dXlKGzW3g10W",
        "colab_type": "code",
        "colab": {}
      },
      "cell_type": "code",
      "source": [
        "# Virtual machine OS is Linux\n",
        "# basic OS commands\n",
        "!ls                       # list dir\n",
        "!ls -alis                 # list dir with details\n",
        "\n",
        "!touch test.txt           # creates a file\n",
        "!ls\n",
        "!rm test.txt              # deletes a file\n",
        "\n",
        "!mkdir 'new folder'       # make a dir\n",
        "!ls\n",
        "!rmdir 'new folder'       # remove an empty dir\n",
        "\n",
        "!mkdir folder2\n",
        "!touch folder2/test.txt\n",
        "!rmdir folder2\n",
        "!rm -rf folder2           # removes a dir and content !! Warning !!\n",
        "\n",
        "!touch test.txt\n",
        "!mv test.txt test2.txt    # rename or move files\n",
        "!cp test2.txt test3.txt   # copy files\n",
        "!ls\n",
        "!rm test*                 # delete files starting with test"
      ],
      "execution_count": 0,
      "outputs": []
    },
    {
      "metadata": {
        "id": "EXF7zwgBdrha",
        "colab_type": "code",
        "colab": {}
      },
      "cell_type": "code",
      "source": [
        "!echo \"aaa\" >hola.txt\n",
        "!zip hola.zip hola.txt    # Compress file to zip\n",
        "!ls\n",
        "!rm hola.txt\n",
        "!ls\n",
        "!unzip hola.zip           # Decompress zip file\n",
        "!ls\n",
        "!rm hola*"
      ],
      "execution_count": 0,
      "outputs": []
    },
    {
      "metadata": {
        "id": "JDIb43g2jR5F",
        "colab_type": "code",
        "colab": {}
      },
      "cell_type": "code",
      "source": [
        "!echo \"aaa\" >hola.txt\n",
        "!tar czvf hola.tar.gz hola.txt    # Compress file to tar\n",
        "!ls\n",
        "!rm hola.txt\n",
        "!ls\n",
        "!tar xvf hola.tar.gz              # Decompress tar file\n",
        "!ls\n",
        "!rm hola*"
      ],
      "execution_count": 0,
      "outputs": []
    },
    {
      "metadata": {
        "id": "dA_nJWswbFjg",
        "colab_type": "text"
      },
      "cell_type": "markdown",
      "source": [
        "# Starting to learn"
      ]
    },
    {
      "metadata": {
        "id": "pWRHV7zqbOUS",
        "colab_type": "text"
      },
      "cell_type": "markdown",
      "source": [
        "## Fast AI - Deep Learning\n",
        "[Fast AI](https://www.fast.ai/)<br>\n",
        "[Practical Deep Learning for Coders - 2019  ](https://course.fast.ai/)<br>"
      ]
    },
    {
      "metadata": {
        "id": "UE5cM9csCmJW",
        "colab_type": "code",
        "colab": {}
      },
      "cell_type": "code",
      "source": [
        "from google.colab import drive\n",
        "drive.mount('/gdrive')"
      ],
      "execution_count": 0,
      "outputs": []
    },
    {
      "metadata": {
        "id": "_FFlvjtjg-RC",
        "colab_type": "code",
        "colab": {}
      },
      "cell_type": "code",
      "source": [
        "# Copy FastAI course to Google Drive\n",
        "!mkdir /gdrive/My\\ Drive/FastAI_dl\n",
        "!git clone https://github.com/fastai/course-v3.git /gdrive/My\\ Drive/FastAI_dl"
      ],
      "execution_count": 0,
      "outputs": []
    },
    {
      "metadata": {
        "id": "mbLR1b3kSSV-",
        "colab_type": "code",
        "colab": {}
      },
      "cell_type": "code",
      "source": [
        "# Copy folders to Google Colab to run the lesson Notebooks\n",
        "!git clone https://github.com/fastai/course-v3.git\n",
        "!mv course-v3/nbs/dl1/* /content"
      ],
      "execution_count": 0,
      "outputs": []
    },
    {
      "metadata": {
        "id": "9gmgnXLAR1Q-",
        "colab_type": "text"
      },
      "cell_type": "markdown",
      "source": [
        "** Open a lesson1 notebook**<br>\n",
        "Go to your Drive -> FastAI_dl -> nbs -> dl1<br>\n",
        "Open lesson1-pets.ipynb<br>\n",
        "Change runtime environment to GPU<br>"
      ]
    },
    {
      "metadata": {
        "id": "dq4V01fFg5Dp",
        "colab_type": "text"
      },
      "cell_type": "markdown",
      "source": [
        "## Deep Learning AI"
      ]
    },
    {
      "metadata": {
        "id": "OOMx5wGWh9DT",
        "colab_type": "text"
      },
      "cell_type": "markdown",
      "source": [
        "[Coursera](https://www.coursera.org/specializations/deep-learning)\n",
        "\n",
        "[Youtube playlist - Course 1](https://www.youtube.com/playlist?list=PLkDaE6sCZn6Ec-XTbcX1uRg2_u4xOEky0)\n",
        "\n",
        "[Github](https://github.com/Giffy/Coursera-DeepLearningSpecialization)"
      ]
    },
    {
      "metadata": {
        "id": "5w2_zE0RY8Hg",
        "colab_type": "code",
        "colab": {}
      },
      "cell_type": "code",
      "source": [
        "!kill -9 -1     # Starting a clean new VM "
      ],
      "execution_count": 0,
      "outputs": []
    },
    {
      "metadata": {
        "id": "UD7iwU4CNJSs",
        "colab_type": "code",
        "outputId": "8b8e89b8-cd7e-48a9-9197-8d06ead2468e",
        "colab": {
          "base_uri": "https://localhost:8080/",
          "height": 124
        }
      },
      "cell_type": "code",
      "source": [
        "from google.colab import drive\n",
        "drive.mount('/gdrive')"
      ],
      "execution_count": 1,
      "outputs": [
        {
          "output_type": "stream",
          "text": [
            "Go to this URL in a browser: https://accounts.google.com/o/oauth2/auth?client_id=947318989803-6bn6qk8qdgf4n4g3pfee6491hc0brc4i.apps.googleusercontent.com&redirect_uri=urn%3Aietf%3Awg%3Aoauth%3A2.0%3Aoob&scope=email%20https%3A%2F%2Fwww.googleapis.com%2Fauth%2Fdocs.test%20https%3A%2F%2Fwww.googleapis.com%2Fauth%2Fdrive%20https%3A%2F%2Fwww.googleapis.com%2Fauth%2Fdrive.photos.readonly%20https%3A%2F%2Fwww.googleapis.com%2Fauth%2Fpeopleapi.readonly&response_type=code\n",
            "\n",
            "Enter your authorization code:\n",
            "··········\n",
            "Mounted at /gdrive\n"
          ],
          "name": "stdout"
        }
      ]
    },
    {
      "metadata": {
        "colab_type": "code",
        "id": "fWG3qd4CgIlc",
        "colab": {
          "base_uri": "https://localhost:8080/",
          "height": 139
        },
        "outputId": "60e28ef3-4a5a-40d3-febe-426105fba089"
      },
      "cell_type": "code",
      "source": [
        "!mkdir /gdrive/My\\ Drive/DeepLearningAI\n",
        "!git clone https://github.com/Giffy/Coursera-DeepLearningSpecialization.git /gdrive/My\\ Drive/DeepLearningAI"
      ],
      "execution_count": 2,
      "outputs": [
        {
          "output_type": "stream",
          "text": [
            "Cloning into '/gdrive/My Drive/DeepLearningAI'...\n",
            "remote: Enumerating objects: 107, done.\u001b[K\n",
            "remote: Counting objects:   0% (1/107)   \u001b[K\rremote: Counting objects:   1% (2/107)   \u001b[K\rremote: Counting objects:   2% (3/107)   \u001b[K\rremote: Counting objects:   3% (4/107)   \u001b[K\rremote: Counting objects:   4% (5/107)   \u001b[K\rremote: Counting objects:   5% (6/107)   \u001b[K\rremote: Counting objects:   6% (7/107)   \u001b[K\rremote: Counting objects:   7% (8/107)   \u001b[K\rremote: Counting objects:   8% (9/107)   \u001b[K\rremote: Counting objects:   9% (10/107)   \u001b[K\rremote: Counting objects:  10% (11/107)   \u001b[K\rremote: Counting objects:  11% (12/107)   \u001b[K\rremote: Counting objects:  12% (13/107)   \u001b[K\rremote: Counting objects:  13% (14/107)   \u001b[K\rremote: Counting objects:  14% (15/107)   \u001b[K\rremote: Counting objects:  15% (17/107)   \u001b[K\rremote: Counting objects:  16% (18/107)   \u001b[K\rremote: Counting objects:  17% (19/107)   \u001b[K\rremote: Counting objects:  18% (20/107)   \u001b[K\rremote: Counting objects:  19% (21/107)   \u001b[K\rremote: Counting objects:  20% (22/107)   \u001b[K\rremote: Counting objects:  21% (23/107)   \u001b[K\rremote: Counting objects:  22% (24/107)   \u001b[K\rremote: Counting objects:  23% (25/107)   \u001b[K\rremote: Counting objects:  24% (26/107)   \u001b[K\rremote: Counting objects:  25% (27/107)   \u001b[K\rremote: Counting objects:  26% (28/107)   \u001b[K\rremote: Counting objects:  27% (29/107)   \u001b[K\rremote: Counting objects:  28% (30/107)   \u001b[K\rremote: Counting objects:  29% (32/107)   \u001b[K\rremote: Counting objects:  30% (33/107)   \u001b[K\rremote: Counting objects:  31% (34/107)   \u001b[K\rremote: Counting objects:  32% (35/107)   \u001b[K\rremote: Counting objects:  33% (36/107)   \u001b[K\rremote: Counting objects:  34% (37/107)   \u001b[K\rremote: Counting objects:  35% (38/107)   \u001b[K\rremote: Counting objects:  36% (39/107)   \u001b[K\rremote: Counting objects:  37% (40/107)   \u001b[K\rremote: Counting objects:  38% (41/107)   \u001b[K\rremote: Counting objects:  39% (42/107)   \u001b[K\rremote: Counting objects:  40% (43/107)   \u001b[K\rremote: Counting objects:  41% (44/107)   \u001b[K\rremote: Counting objects:  42% (45/107)   \u001b[K\rremote: Counting objects:  43% (47/107)   \u001b[K\rremote: Counting objects:  44% (48/107)   \u001b[K\rremote: Counting objects:  45% (49/107)   \u001b[K\rremote: Counting objects:  46% (50/107)   \u001b[K\rremote: Counting objects:  47% (51/107)   \u001b[K\rremote: Counting objects:  48% (52/107)   \u001b[K\rremote: Counting objects:  49% (53/107)   \u001b[K\rremote: Counting objects:  50% (54/107)   \u001b[K\rremote: Counting objects:  51% (55/107)   \u001b[K\rremote: Counting objects:  52% (56/107)   \u001b[K\rremote: Counting objects:  53% (57/107)   \u001b[K\rremote: Counting objects:  54% (58/107)   \u001b[K\rremote: Counting objects:  55% (59/107)   \u001b[K\rremote: Counting objects:  56% (60/107)   \u001b[K\rremote: Counting objects:  57% (61/107)   \u001b[K\rremote: Counting objects:  58% (63/107)   \u001b[K\rremote: Counting objects:  59% (64/107)   \u001b[K\rremote: Counting objects:  60% (65/107)   \u001b[K\rremote: Counting objects:  61% (66/107)   \u001b[K\rremote: Counting objects:  62% (67/107)   \u001b[K\rremote: Counting objects:  63% (68/107)   \u001b[K\rremote: Counting objects:  64% (69/107)   \u001b[K\rremote: Counting objects:  65% (70/107)   \u001b[K\rremote: Counting objects:  66% (71/107)   \u001b[K\rremote: Counting objects:  67% (72/107)   \u001b[K\rremote: Counting objects:  68% (73/107)   \u001b[K\rremote: Counting objects:  69% (74/107)   \u001b[K\rremote: Counting objects:  70% (75/107)   \u001b[K\rremote: Counting objects:  71% (76/107)   \u001b[K\rremote: Counting objects:  72% (78/107)   \u001b[K\rremote: Counting objects:  73% (79/107)   \u001b[K\rremote: Counting objects:  74% (80/107)   \u001b[K\rremote: Counting objects:  75% (81/107)   \u001b[K\rremote: Counting objects:  76% (82/107)   \u001b[K\rremote: Counting objects:  77% (83/107)   \u001b[K\rremote: Counting objects:  78% (84/107)   \u001b[K\rremote: Counting objects:  79% (85/107)   \u001b[K\rremote: Counting objects:  80% (86/107)   \u001b[K\rremote: Counting objects:  81% (87/107)   \u001b[K\rremote: Counting objects:  82% (88/107)   \u001b[K\rremote: Counting objects:  83% (89/107)   \u001b[K\rremote: Counting objects:  84% (90/107)   \u001b[K\rremote: Counting objects:  85% (91/107)   \u001b[K\rremote: Counting objects:  86% (93/107)   \u001b[K\rremote: Counting objects:  87% (94/107)   \u001b[K\rremote: Counting objects:  88% (95/107)   \u001b[K\rremote: Counting objects:  89% (96/107)   \u001b[K\rremote: Counting objects:  90% (97/107)   \u001b[K\rremote: Counting objects:  91% (98/107)   \u001b[K\rremote: Counting objects:  92% (99/107)   \u001b[K\rremote: Counting objects:  93% (100/107)   \u001b[K\rremote: Counting objects:  94% (101/107)   \u001b[K\rremote: Counting objects:  95% (102/107)   \u001b[K\rremote: Counting objects:  96% (103/107)   \u001b[K\rremote: Counting objects:  97% (104/107)   \u001b[K\rremote: Counting objects:  98% (105/107)   \u001b[K\rremote: Counting objects:  99% (106/107)   \u001b[K\rremote: Counting objects: 100% (107/107)   \u001b[K\rremote: Counting objects: 100% (107/107), done.\u001b[K\n",
            "remote: Compressing objects: 100% (106/106), done.\u001b[K\n",
            "remote: Total 656 (delta 63), reused 0 (delta 0), pack-reused 549\u001b[K\n",
            "Receiving objects: 100% (656/656), 15.17 MiB | 16.39 MiB/s, done.\n",
            "Resolving deltas: 100% (344/344), done.\n"
          ],
          "name": "stdout"
        }
      ]
    },
    {
      "metadata": {
        "id": "IOJL8qUigU6O",
        "colab_type": "text"
      },
      "cell_type": "markdown",
      "source": [
        "## Fast AI - Machine Learning"
      ]
    },
    {
      "metadata": {
        "id": "OvlhcSA3b1gH",
        "colab_type": "text"
      },
      "cell_type": "markdown",
      "source": [
        "\n",
        "[Introduction to Machine Learning for Coders](http://course18.fast.ai/ml)<br>\n",
        "\n",
        "**Lesson resources**\n",
        "\n",
        "[Wiki of Lesson1](https://forums.fast.ai/t/wiki-thread-lesson-1/6825)<br>\n",
        "[Lesson video](https://youtu.be/CzdWqFTmn0Y)<br>\n",
        "Course repo: https://github.com/fastai/fastai<br>\n",
        "Notebooks: In courses/ml1 in the above repo<br>\n",
        "[Workshop video](https://forums.fast.ai/t/deep-learning-workshop-video/6649)<br>\n",
        "[Lesson notes](https://medium.com/@hiromi_suenaga/machine-learning-1-lesson-1-84a1dc2b5236)<br>\n",
        "[Kaggle Kernel for lesson 1](https://www.kaggle.com/miwojc/fast-ai-machine-learning-lesson-1/)\n"
      ]
    },
    {
      "metadata": {
        "id": "tJFXhRQFhKES",
        "colab_type": "text"
      },
      "cell_type": "markdown",
      "source": [
        "# Improve and learn Python "
      ]
    },
    {
      "metadata": {
        "id": "DsySzqPehp8p",
        "colab_type": "text"
      },
      "cell_type": "markdown",
      "source": [
        "**PyBCN **organises a meetup where people from the Python community offers monthly talks about different topics. PyBCN also organises workshops (dojos), practical sessions in which work on a exercise on groups. \n",
        "Anyone interested can join to https://www.meetup.com/python-185/\n",
        "\n",
        "**PyLadies BCN** are members of an international mentorship group with a focus on helping women become active participants and leaders in the Python open-source community. PyLadies also aims to provide a friendly support network for women and a bridge to the larger Python world.\n",
        "Anyone interested can join to https://www.meetup.com/PyLadies-BCN/\n",
        "\n",
        "Interesting notebooks : https://github.com/pyladies-bcn\n"
      ]
    }
  ]
}